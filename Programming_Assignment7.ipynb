{
 "cells": [
  {
   "cell_type": "code",
   "execution_count": 1,
   "id": "83ab99cd",
   "metadata": {},
   "outputs": [
    {
     "name": "stdout",
     "output_type": "stream",
     "text": [
      "Enter integer elements with space 45  789 987 98\n",
      "sum of the array is 1919\n"
     ]
    }
   ],
   "source": [
    "#1. Write a Python Program to find sum of array?\n",
    "\n",
    "#defining function\n",
    "def _sum(arr):\n",
    "    sum = 0\n",
    "    \n",
    "    for i in arr:\n",
    "        sum = sum +i\n",
    "    return(sum)\n",
    "\n",
    "arr = []\n",
    "arr = list(map(int,input(\"Enter integer elements with space \").split()))\n",
    "n = len(arr)\n",
    "ans = _sum(arr)\n",
    "print(\"sum of the array is\", ans)"
   ]
  },
  {
   "cell_type": "code",
   "execution_count": 4,
   "id": "763131c9",
   "metadata": {},
   "outputs": [
    {
     "name": "stdout",
     "output_type": "stream",
     "text": [
      "Enter integer elements with space 654 87 7 787\n",
      "max of the array is 787\n"
     ]
    }
   ],
   "source": [
    "#2. Write a Python Program to find largest element in an array?\n",
    "#defining fuction\n",
    "\n",
    "def _max(arr, n):\n",
    "    #Initialize max element\n",
    "    max = arr[0]\n",
    "    \n",
    "    #Transverse array elements from second and compare every element with current max\n",
    "    for i in range(1, n):\n",
    "        if arr[i] > max:\n",
    "            max = arr[i]\n",
    "    return max\n",
    "\n",
    "arr = []\n",
    "arr = list(map(int,input(\"Enter integer elements with space \").split()))\n",
    "n = len(arr)\n",
    "ans = _max(arr, n)\n",
    "print(\"max of the array is\", ans)\n"
   ]
  },
  {
   "cell_type": "code",
   "execution_count": 10,
   "id": "8da5319a",
   "metadata": {},
   "outputs": [
    {
     "name": "stdout",
     "output_type": "stream",
     "text": [
      "Enter integer elements with space 4 5 6 4 5 6 4\n",
      "size of rotation5\n",
      "6 4 4 5 6 4 5 "
     ]
    }
   ],
   "source": [
    "#3. Write a Python Program for array rotation?\n",
    "\n",
    "def leftRotate(arr, d, n):\n",
    "    for i in range(d):\n",
    "        leftRotatebyOne(arr, n)\n",
    " \n",
    "#Function to left Rotate arr[] of size n by 1*/\n",
    "def leftRotatebyOne(arr, n):\n",
    "    temp = arr[0]\n",
    "    for i in range(n-1):\n",
    "        arr[i] = arr[i+1]\n",
    "    arr[n-1] = temp\n",
    "         \n",
    " \n",
    "# utility function to print an array */\n",
    "def printArray(arr,size):\n",
    "    for i in range(size):\n",
    "        print (\"%d\"% arr[i],end=\" \")\n",
    " \n",
    "  \n",
    "# Driver program to test above functions */\n",
    "arr = list(map(int,input(\"Enter integer elements with space \").split()))\n",
    "d = int(input(\"size of rotation\"))\n",
    "n = len(arr)\n",
    "leftRotate(arr, d, n)\n",
    "printArray(arr, n)"
   ]
  },
  {
   "cell_type": "code",
   "execution_count": 10,
   "id": "47e7a9e9",
   "metadata": {},
   "outputs": [
    {
     "name": "stdout",
     "output_type": "stream",
     "text": [
      "Enter integer elements with space 13 213 21 32 11 321 32 154 6 48  987987\n",
      "Enter a position 2\n",
      "21 32 11 321 32 154 6 48 987987 13 213 "
     ]
    }
   ],
   "source": [
    "#4 Write a Python Program to Split the array and add the first part to the end?\n",
    "\n",
    "def splitArr(arr, n, d): \n",
    "    for i in range(0, d): \n",
    "        x = arr[0]\n",
    "        for j in range(0, n-1):\n",
    "            arr[j] = arr[j + 1]\n",
    "          \n",
    "        arr[n-1] = x\n",
    "        \n",
    "#main       \n",
    "arr = list(map(int,input(\"Enter integer elements with space \").split()))\n",
    "n = len(arr)\n",
    "d = int(input(\"Enter a position \"))\n",
    "  \n",
    "splitArr(arr, n, d)\n",
    "  \n",
    "for i in range(0, n): \n",
    "    print(arr[i], end = ' ')"
   ]
  },
  {
   "cell_type": "code",
   "execution_count": 14,
   "id": "a32c12c5",
   "metadata": {},
   "outputs": [
    {
     "name": "stdout",
     "output_type": "stream",
     "text": [
      "Enter integer elements with space 5 4 2 7 2\n",
      "False\n"
     ]
    }
   ],
   "source": [
    "#5 Write a Python Program to check if given array is Monotonic?\n",
    "\n",
    "# Check if given array is Monotonic\n",
    "def isMonotonic(A):\n",
    "  \n",
    "    return (all(A[i] <= A[i + 1] for i in range(len(A) - 1)) or\n",
    "            all(A[i] >= A[i + 1] for i in range(len(A) - 1)))\n",
    "  \n",
    "# Driver program\n",
    "A = list(map(int,input(\"Enter integer elements with space \").split()))  \n",
    "\n",
    "# Print required result\n",
    "print(isMonotonic(A))"
   ]
  },
  {
   "cell_type": "code",
   "execution_count": null,
   "id": "38642d56",
   "metadata": {},
   "outputs": [],
   "source": []
  }
 ],
 "metadata": {
  "kernelspec": {
   "display_name": "Python 3 (ipykernel)",
   "language": "python",
   "name": "python3"
  },
  "language_info": {
   "codemirror_mode": {
    "name": "ipython",
    "version": 3
   },
   "file_extension": ".py",
   "mimetype": "text/x-python",
   "name": "python",
   "nbconvert_exporter": "python",
   "pygments_lexer": "ipython3",
   "version": "3.9.12"
  }
 },
 "nbformat": 4,
 "nbformat_minor": 5
}
